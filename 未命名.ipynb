{
 "cells": [
  {
   "cell_type": "code",
   "execution_count": null,
   "id": "irish-infection",
   "metadata": {},
   "outputs": [],
   "source": [
    "import numpy as np\n",
    "import pandas as pd\n",
    "from sklearn.preprocessing import StandardScaler\n",
    "from sklearn.model_selection import KFold\n",
    "from sklearn.model_selection import train_test_split\n",
    "from sklearn.utils import shuffle\n",
    "from sklearn.metrics import accuracy_score\n",
    "from sklearn.metrics import balanced_accuracy_score\n",
    "import matplotlib.pyplot as plt\n",
    "from sklearn import svm"
   ]
  },
  {
   "cell_type": "code",
   "execution_count": null,
   "id": "designed-strap",
   "metadata": {},
   "outputs": [],
   "source": [
    "def KFoldSplit(X, y):\n",
    "    kf = KFold()\n",
    "    kf.get_n_splits(X)\n",
    "\n",
    "    for train_index, test_index in kf.split(X):\n",
    "        X_train = [X[i] for i in train_index]\n",
    "        X_test = [X[i] for i in test_index]\n",
    "        y_train = [y[i] for i in train_index]\n",
    "        y_test = [y[i] for i in test_index]\n",
    "\n",
    "        yield X_train, X_test, y_train, y_test\n",
    "\n",
    "def one_hot(Y, prefix):\n",
    "    one_hot = pd.get_dummies(Y)\n",
    "    names = []\n",
    "    for col in one_hot.columns:\n",
    "        names.append(prefix + '_' + col)\n",
    "    one_hot.columns = names\n",
    "    return one_hot\n",
    "        \n",
    "def preprocess(filename, sep=','):\n",
    "    # load data\n",
    "    df = pd.read_csv(filename, sep=sep)\n",
    "    df = df.dropna()\n",
    "    # shuffle\n",
    "    df = shuffle(df)\n",
    "\n",
    "    X = df\n",
    "    Y_color = df.iloc[:, 6]\n",
    "    Y_texture = df.iloc[:, 7]\n",
    "    X.drop(['color', 'texture', 'image', 'id', 'x', 'y', 'w', 'h'], axis=1, inplace=True)\n",
    "    \n",
    "#     encoding y\n",
    "    Y_color = np.array(Y_color)\n",
    "    Y_texture = np.array(Y_texture)\n",
    "    \n",
    "    return np.array(X), Y_color, Y_texture\n",
    "\n",
    "def eval(y_test, y_pred):\n",
    "    accuracy = round(accuracy_score(y_test, y_pred), 3)\n",
    "    balanced_accu = round(balanced_accuracy_score(y_test, y_pred), 3)\n",
    "    \n",
    "    print('accuracy: ', accuracy)\n",
    "    print('balanced accuracy: ', balanced_accu)\n",
    "\n",
    "    return accuracy, balanced_accu\n",
    "\n",
    "def KFold_train(X, y):\n",
    "    accuracies = []\n",
    "    balanced_accuracies = []\n",
    "\n",
    "    for X_train, X_test, y_train, y_test in KFoldSplit(X, y):\n",
    "        clf = svm.SVC(kernel='rbf')\n",
    "        clf.fit(X_train,y_train)\n",
    "        y_pred = clf.predict(X_test)\n",
    "        accuracy, balanced = eval(y_test, y_pred)\n",
    "        accuracies.append(accuracy)\n",
    "        balanced_accuracies.append(balanced)\n",
    "    print('Avg Accuracy: ', round(np.mean(accuracies), 3))\n",
    "    print('Avg Balanced Accuracy: ', round(np.mean(balanced_accuracies), 3))\n"
   ]
  },
  {
   "cell_type": "code",
   "execution_count": null,
   "id": "boolean-norwegian",
   "metadata": {},
   "outputs": [],
   "source": [
    "X, Y_color, Y_texture = preprocess(\"data/data_train.csv\")"
   ]
  },
  {
   "cell_type": "code",
   "execution_count": null,
   "id": "automatic-wallace",
   "metadata": {},
   "outputs": [],
   "source": [
    "Y_color_pred = KFold_train(X, Y_color)\n",
    "# Y_texture_pred = KFold_train(X, Y_texture)\n",
    "\n"
   ]
  },
  {
   "cell_type": "code",
   "execution_count": null,
   "id": "banned-tuition",
   "metadata": {},
   "outputs": [],
   "source": [
    "Y_color_pred"
   ]
  },
  {
   "cell_type": "code",
   "execution_count": null,
   "id": "improved-bacon",
   "metadata": {},
   "outputs": [],
   "source": []
  }
 ],
 "metadata": {
  "kernelspec": {
   "display_name": "Python 3",
   "language": "python",
   "name": "python3"
  },
  "language_info": {
   "codemirror_mode": {
    "name": "ipython",
    "version": 3
   },
   "file_extension": ".py",
   "mimetype": "text/x-python",
   "name": "python",
   "nbconvert_exporter": "python",
   "pygments_lexer": "ipython3",
   "version": "3.7.10"
  }
 },
 "nbformat": 4,
 "nbformat_minor": 5
}
