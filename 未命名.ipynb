{
 "cells": [
  {
   "cell_type": "code",
   "execution_count": 318,
   "metadata": {},
   "outputs": [],
   "source": [
    "import numpy as np\n",
    "import pandas as pd\n",
    "from sklearn.preprocessing import StandardScaler\n",
    "from sklearn.model_selection import KFold\n",
    "from sklearn.model_selection import train_test_split\n",
    "from sklearn.utils import shuffle\n",
    "from sklearn.metrics import accuracy_score\n",
    "from sklearn.metrics import balanced_accuracy_score\n",
    "import matplotlib.pyplot as plt\n",
    "from sklearn import svm\n",
    "from sklearn.naive_bayes import GaussianNB\n",
    "from sklearn.mixture import GaussianMixture\n",
    "from sklearn.model_selection import StratifiedShuffleSplit\n",
    "from sklearn.model_selection import GridSearchCV\n",
    "from sklearn.decomposition import PCA"
   ]
  },
  {
   "cell_type": "code",
   "execution_count": 336,
   "metadata": {},
   "outputs": [],
   "source": [
    "def KFoldSplit(X, y):\n",
    "    kf = KFold()\n",
    "    kf.get_n_splits(X)\n",
    "\n",
    "    for train_index, test_index in kf.split(X):\n",
    "        X_train = [X[i] for i in train_index]\n",
    "        X_test = [X[i] for i in test_index]\n",
    "        y_train = [y[i] for i in train_index]\n",
    "        y_test = [y[i] for i in test_index]\n",
    "\n",
    "        yield np.array(X_train), np.array(X_test), np.array(y_train), np.array(y_test)\n",
    "        \n",
    "def preprocess(filename, sep=','):\n",
    "    # load data\n",
    "    df = pd.read_csv(filename, sep=sep)\n",
    "    df = df.dropna()\n",
    "    # shuffle\n",
    "    df = shuffle(df)\n",
    "\n",
    "    X = df\n",
    "    Y_color = df.iloc[:, 6]\n",
    "    Y_texture = df.iloc[:, 7]\n",
    "    X.drop(['color', 'texture', 'image', 'id', 'x', 'y', 'w', 'h'], axis=1, inplace=True)\n",
    "    \n",
    "#     encoding y\n",
    "    Y_color = np.array(Y_color)\n",
    "    Y_texture = np.array(Y_texture)\n",
    "    \n",
    "#     print(X.head())\n",
    "    \n",
    "    return np.array(X), Y_color, Y_texture\n",
    "\n",
    "def preprocess_test(filename, sep=','):\n",
    "    # load data\n",
    "    df = pd.read_csv(filename, sep=sep)\n",
    "\n",
    "    X = df\n",
    "    X.drop(['image', 'id', 'x', 'y', 'w', 'h'], axis=1, inplace=True)\n",
    "#     print(X.isna().any(axis=1).to_string())\n",
    "    X = X.dropna()\n",
    "    return np.array(X)\n",
    "\n",
    "def KFold_train(X, y):\n",
    "    balanced_accuracies = []\n",
    "\n",
    "    for X_train, X_test, y_train, y_test in KFoldSplit(X, y):\n",
    "        \n",
    "        scaler = StandardScaler()\n",
    "        X_train = scaler.fit_transform(X_train)\n",
    "        X_test = scaler.transform(X_test)\n",
    "        \n",
    "        pca = PCA(n_components='mle', svd_solver = 'full')# adjust yourself\n",
    "        pca.fit(X_train)\n",
    "        X_train = pca.transform(X_train)\n",
    "        X_test = pca.transform(X_test)\n",
    "        \n",
    "#         X_train = X_train[:, 27:]\n",
    "#         X_test = X_test[:, 27:]\n",
    "#         C_range = np.logspace(-2, 10, 13)\n",
    "#         gamma_range = np.logspace(-9, 3, 13)\n",
    "#         param_grid = dict(gamma=gamma_range, C=C_range)\n",
    "#         cv = StratifiedShuffleSplit(n_splits=5, test_size=0.2, random_state=42)\n",
    "#         grid = GridSearchCV(svm.SVC(class_weight='balanced'), param_grid=param_grid, scoring=\"balanced_accuracy\", cv=cv)\n",
    "#         grid.fit(X_train, y_train)\n",
    "        \n",
    "#         print(\"The best parameters are %s with a score of %0.2f\"\n",
    "#       % (grid.best_params_, grid.best_score_))\n",
    "        clf = svm.SVC(kernel='rbf', class_weight='balanced')\n",
    "        clf.fit(X_train,y_train)\n",
    "        y_pred = clf.predict(X_test)\n",
    "        accuracy = balanced_accu = round(balanced_accuracy_score(y_test, y_pred), 3)\n",
    "        print(\"Balanced Accuracy: \", accuracy)\n",
    "        balanced_accuracies.append(accuracy)\n",
    "    print('Avg Balanced Accuracy: ', round(np.mean(balanced_accuracies), 3))\n"
   ]
  },
  {
   "cell_type": "code",
   "execution_count": 337,
   "metadata": {},
   "outputs": [],
   "source": [
    "def train(X_train, X_test, y_train):\n",
    "    scaler = StandardScaler()\n",
    "    X_train = scaler.fit_transform(X_train)\n",
    "    X_test = scaler.transform(X_test)\n",
    "    \n",
    "    clf = svm.SVC(kernel='rbf',class_weight='balanced')\n",
    "    clf.fit(X_train,y_train)\n",
    "    y_pred = clf.predict(X_test)\n",
    "    return y_pred\n",
    "\n",
    "def output(filename, y_pred):\n",
    "    y_pred = np.array(y_pred)\n",
    "    with open(filename, \"w\") as wp:\n",
    "        for pred in y_pred:\n",
    "            wp.write(\"{}\\n\".format(pred))\n"
   ]
  },
  {
   "cell_type": "code",
   "execution_count": 321,
   "metadata": {},
   "outputs": [],
   "source": [
    "X, Y_color, Y_texture = preprocess(\"data/data_train.csv\")\n",
    "X_test = preprocess_test(\"data/data_test.csv\")"
   ]
  },
  {
   "cell_type": "code",
   "execution_count": null,
   "metadata": {},
   "outputs": [],
   "source": [
    "# Y_color_pred = KFold_train(get_color_histogram(X), Y_color)\n",
    "Y_color_pred = KFold_train(X, Y_color)\n",
    "# Y_texture_pred = KFold_train(X, Y_texture)\n",
    "\n",
    "# y_pred = train(X, X_test, Y_color)\n",
    "# y_pred = train(X, X_test, Y_texture)\n"
   ]
  },
  {
   "cell_type": "code",
   "execution_count": 300,
   "metadata": {},
   "outputs": [],
   "source": [
    "output(\"pred.csv\", y_pred)"
   ]
  },
  {
   "cell_type": "code",
   "execution_count": 79,
   "metadata": {},
   "outputs": [],
   "source": [
    "Y_color_pred"
   ]
  },
  {
   "cell_type": "code",
   "execution_count": null,
   "metadata": {},
   "outputs": [],
   "source": []
  }
 ],
 "metadata": {
  "kernelspec": {
   "display_name": "Python 3",
   "language": "python",
   "name": "python3"
  }
 },
 "nbformat": 4,
 "nbformat_minor": 5
}
